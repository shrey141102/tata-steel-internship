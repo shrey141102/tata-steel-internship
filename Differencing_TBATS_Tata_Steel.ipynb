{
  "nbformat": 4,
  "nbformat_minor": 0,
  "metadata": {
    "colab": {
      "provenance": []
    },
    "kernelspec": {
      "name": "python3",
      "display_name": "Python 3"
    },
    "language_info": {
      "name": "python"
    }
  },
  "cells": [
    {
      "cell_type": "code",
      "source": [
        "!pip install tbats"
      ],
      "metadata": {
        "colab": {
          "base_uri": "https://localhost:8080/"
        },
        "id": "5iIRjVf5r_md",
        "outputId": "e0741763-43ea-4e1e-c4e7-c7e004f67dbe"
      },
      "execution_count": null,
      "outputs": [
        {
          "output_type": "stream",
          "name": "stdout",
          "text": [
            "Collecting tbats\n",
            "  Downloading tbats-1.1.3-py3-none-any.whl (44 kB)\n",
            "\u001b[?25l     \u001b[90m━━━━━━━━━━━━━━━━━━━━━━━━━━━━━━━━━━━━━━━━\u001b[0m \u001b[32m0.0/44.0 kB\u001b[0m \u001b[31m?\u001b[0m eta \u001b[36m-:--:--\u001b[0m\r\u001b[2K     \u001b[91m━━━━━━━━━━━━━━━━━━━━━━━━━━━━━━━━━━━━━\u001b[0m\u001b[90m╺\u001b[0m\u001b[90m━━\u001b[0m \u001b[32m41.0/44.0 kB\u001b[0m \u001b[31m1.5 MB/s\u001b[0m eta \u001b[36m0:00:01\u001b[0m\r\u001b[2K     \u001b[90m━━━━━━━━━━━━━━━━━━━━━━━━━━━━━━━━━━━━━━━━\u001b[0m \u001b[32m44.0/44.0 kB\u001b[0m \u001b[31m909.3 kB/s\u001b[0m eta \u001b[36m0:00:00\u001b[0m\n",
            "\u001b[?25hRequirement already satisfied: numpy in /usr/local/lib/python3.10/dist-packages (from tbats) (1.25.2)\n",
            "Requirement already satisfied: scipy in /usr/local/lib/python3.10/dist-packages (from tbats) (1.11.4)\n",
            "Collecting pmdarima (from tbats)\n",
            "  Downloading pmdarima-2.0.4-cp310-cp310-manylinux_2_17_x86_64.manylinux2014_x86_64.manylinux_2_28_x86_64.whl (2.1 MB)\n",
            "\u001b[2K     \u001b[90m━━━━━━━━━━━━━━━━━━━━━━━━━━━━━━━━━━━━━━━━\u001b[0m \u001b[32m2.1/2.1 MB\u001b[0m \u001b[31m16.6 MB/s\u001b[0m eta \u001b[36m0:00:00\u001b[0m\n",
            "\u001b[?25hRequirement already satisfied: scikit-learn in /usr/local/lib/python3.10/dist-packages (from tbats) (1.2.2)\n",
            "Requirement already satisfied: joblib>=0.11 in /usr/local/lib/python3.10/dist-packages (from pmdarima->tbats) (1.4.2)\n",
            "Requirement already satisfied: Cython!=0.29.18,!=0.29.31,>=0.29 in /usr/local/lib/python3.10/dist-packages (from pmdarima->tbats) (3.0.10)\n",
            "Requirement already satisfied: pandas>=0.19 in /usr/local/lib/python3.10/dist-packages (from pmdarima->tbats) (2.0.3)\n",
            "Requirement already satisfied: statsmodels>=0.13.2 in /usr/local/lib/python3.10/dist-packages (from pmdarima->tbats) (0.14.2)\n",
            "Requirement already satisfied: urllib3 in /usr/local/lib/python3.10/dist-packages (from pmdarima->tbats) (2.0.7)\n",
            "Requirement already satisfied: setuptools!=50.0.0,>=38.6.0 in /usr/local/lib/python3.10/dist-packages (from pmdarima->tbats) (67.7.2)\n",
            "Requirement already satisfied: packaging>=17.1 in /usr/local/lib/python3.10/dist-packages (from pmdarima->tbats) (24.1)\n",
            "Requirement already satisfied: threadpoolctl>=2.0.0 in /usr/local/lib/python3.10/dist-packages (from scikit-learn->tbats) (3.5.0)\n",
            "Requirement already satisfied: python-dateutil>=2.8.2 in /usr/local/lib/python3.10/dist-packages (from pandas>=0.19->pmdarima->tbats) (2.8.2)\n",
            "Requirement already satisfied: pytz>=2020.1 in /usr/local/lib/python3.10/dist-packages (from pandas>=0.19->pmdarima->tbats) (2023.4)\n",
            "Requirement already satisfied: tzdata>=2022.1 in /usr/local/lib/python3.10/dist-packages (from pandas>=0.19->pmdarima->tbats) (2024.1)\n",
            "Requirement already satisfied: patsy>=0.5.6 in /usr/local/lib/python3.10/dist-packages (from statsmodels>=0.13.2->pmdarima->tbats) (0.5.6)\n",
            "Requirement already satisfied: six in /usr/local/lib/python3.10/dist-packages (from patsy>=0.5.6->statsmodels>=0.13.2->pmdarima->tbats) (1.16.0)\n",
            "Installing collected packages: pmdarima, tbats\n",
            "Successfully installed pmdarima-2.0.4 tbats-1.1.3\n"
          ]
        }
      ]
    },
    {
      "cell_type": "code",
      "source": [
        "import numpy as np\n",
        "import pandas as pd\n",
        "import matplotlib.pyplot as plt\n",
        "\n",
        "from google.colab import drive\n",
        "drive.mount('/content/drive', force_remount=True)\n",
        "\n",
        "x = pd.read_csv('/content/drive/MyDrive/TataSteel10years.csv')\n",
        "# x = pd.read_csv('TISC Historical Data.csv')"
      ],
      "metadata": {
        "colab": {
          "base_uri": "https://localhost:8080/"
        },
        "id": "h7gT0__ZwY2H",
        "outputId": "72b969ae-8b7b-42b9-f1ec-8be6260761ed"
      },
      "execution_count": null,
      "outputs": [
        {
          "output_type": "stream",
          "name": "stdout",
          "text": [
            "Mounted at /content/drive\n"
          ]
        }
      ]
    },
    {
      "cell_type": "code",
      "source": [
        "x['Vol.'] = x['Vol.'].str.replace('M', '').astype(float) * 1e6\n",
        "x['Change %'] = x['Change %'].str.replace('%', '').astype(float)\n",
        "\n",
        "reversed_x = x.iloc[::-1]\n",
        "\n",
        "x_sorted = reversed_x.reset_index(drop=True)\n",
        "\n",
        "reversed_x = x.iloc[::-1]\n",
        "\n",
        "x_sorted = reversed_x.reset_index(drop=True)\n",
        "\n",
        "x_sorted['Date'] = pd.to_datetime(x_sorted['Date'])\n",
        "\n",
        "x_sorted['Price_diff'] = x_sorted['Price'].diff()\n",
        "x_sorted['Price_diff'][0] = 0\n",
        "x_sorted = x_sorted.drop(['Price','Open', 'High', 'Low', 'Vol.', 'Change %'], axis=1)\n",
        "\n",
        "split = int(len(x_sorted)*0.7)\n",
        "test = x_sorted[split:]\n",
        "train = x_sorted[:split]\n",
        "\n",
        "test = test.reset_index(drop=True)\n",
        "train = train.reset_index(drop=True)\n"
      ],
      "metadata": {
        "colab": {
          "base_uri": "https://localhost:8080/"
        },
        "id": "HgdK2X9oC5OJ",
        "outputId": "b2537e1f-35b6-402b-aab0-fac873b8a0a0"
      },
      "execution_count": null,
      "outputs": [
        {
          "output_type": "stream",
          "name": "stderr",
          "text": [
            "<ipython-input-4-15b1afc9ff32>:15: SettingWithCopyWarning: \n",
            "A value is trying to be set on a copy of a slice from a DataFrame\n",
            "\n",
            "See the caveats in the documentation: https://pandas.pydata.org/pandas-docs/stable/user_guide/indexing.html#returning-a-view-versus-a-copy\n",
            "  x_sorted['Price_diff'][0] = 0\n"
          ]
        }
      ]
    },
    {
      "cell_type": "code",
      "source": [
        "from tbats import TBATS\n",
        "\n",
        "# Fit the TBATS model\n",
        "tbats_estimator = TBATS(seasonal_periods=(7, 30.5, 365.25))\n",
        "tbats_model = tbats_estimator.fit(train['Price_diff'])\n",
        "tbats_forecast = tbats_model.forecast(steps=7)\n",
        "predicted_price_next_7_days_tbats = tbats_forecast"
      ],
      "metadata": {
        "id": "sHSkUTmtsU7h"
      },
      "execution_count": null,
      "outputs": []
    },
    {
      "cell_type": "code",
      "source": [
        "# Time series analysis\n",
        "print(tbats_model.summary())\n",
        "\n",
        "print(tbats_model.y_hat) # in sample prediction\n",
        "print(tbats_model.resid) # in sample residuals\n",
        "print(tbats_model.aic)\n",
        "# Reading model parameters\n",
        "print(tbats_model.params.alpha)\n",
        "print(tbats_model.params.beta)\n",
        "print(tbats_model.params.x0)\n",
        "print(tbats_model.params.components.use_box_cox)\n",
        "print(tbats_model.params.components.seasonal_harmonics)"
      ],
      "metadata": {
        "colab": {
          "base_uri": "https://localhost:8080/"
        },
        "id": "j8d2GQmbT-wk",
        "outputId": "19794a9c-9403-4982-ca55-3985bbbdc0c1"
      },
      "execution_count": null,
      "outputs": [
        {
          "output_type": "stream",
          "name": "stdout",
          "text": [
            "Use Box-Cox: False\n",
            "Use trend: False\n",
            "Use damped trend: False\n",
            "Seasonal periods: []\n",
            "Seasonal harmonics []\n",
            "ARMA errors (p, q): (0, 0)\n",
            "Smoothing (Alpha): 0.013751\n",
            "Seasonal Parameters (Gamma): []\n",
            "AR coefficients []\n",
            "MA coefficients []\n",
            "Seed vector [-0.28236002]\n",
            "\n",
            "AIC 13729.642359\n",
            "[-0.28236002 -0.27847728 -0.28289855 ...  0.4269012   0.50353709\n",
            "  0.5001882 ]\n",
            "[ 0.28236002 -0.32152272 -0.31710145 ...  5.5730988  -0.24353709\n",
            "  2.5698118 ]\n",
            "13729.642359132135\n",
            "0.013751037597656071\n",
            "None\n",
            "[-0.28236002]\n",
            "False\n",
            "[]\n"
          ]
        }
      ]
    },
    {
      "cell_type": "code",
      "source": [
        "# Create a date range for the forecast\n",
        "last_date = pd.to_datetime(test['Date'].iloc[-1])\n",
        "forecast_index = pd.date_range(start=last_date + pd.Timedelta(days=1), periods=7)\n",
        "\n",
        "# Plot the forecasted prices\n",
        "plt.figure(figsize=(12, 6))\n",
        "plt.plot(forecast_index, predicted_price_next_7_days_tbats, color='red', marker='o', linestyle='-', linewidth=2, markersize=8, label='Forecasted Price')\n",
        "plt.plot(test['Date'][-5:], test['Price_diff'][-5:], color='blue', label='Actual Price')\n",
        "plt.title('TBATS Forecast for Next 7 Days')\n",
        "plt.xlabel('Date')\n",
        "plt.ylabel('Price_diff')\n",
        "plt.grid(True)\n",
        "plt.legend()\n",
        "plt.show()\n",
        "\n",
        "# Create a DataFrame with the forecasted prices\n",
        "forecast_df_tbats = pd.DataFrame({'Date': forecast_index.date, 'Forecasted Price': predicted_price_next_7_days_tbats})\n",
        "print(forecast_df_tbats)\n"
      ],
      "metadata": {
        "colab": {
          "base_uri": "https://localhost:8080/",
          "height": 707
        },
        "id": "Le984EZ28qvA",
        "outputId": "53704841-63d1-4692-e26f-40ea20f60fec"
      },
      "execution_count": null,
      "outputs": [
        {
          "output_type": "display_data",
          "data": {
            "text/plain": [
              "<Figure size 1200x600 with 1 Axes>"
            ],
            "image/png": "[encoded data removed]"
          },
          "metadata": {}
        },
        {
          "output_type": "stream",
          "name": "stdout",
          "text": [
            "         Date  Forecasted Price\n",
            "0  2024-06-20          0.535526\n",
            "1  2024-06-21          0.535526\n",
            "2  2024-06-22          0.535526\n",
            "3  2024-06-23          0.535526\n",
            "4  2024-06-24          0.535526\n",
            "5  2024-06-25          0.535526\n",
            "6  2024-06-26          0.535526\n"
          ]
        }
      ]
    },
    {
      "cell_type": "code",
      "source": [
        "from sklearn.metrics import mean_absolute_error, mean_squared_error, mean_absolute_percentage_error, median_absolute_error\n",
        "actual_stock_price = test.iloc[:,1:2].values\n",
        "\n",
        "def print_metrics(model_name, actual, predicted):\n",
        "    mae = mean_absolute_error(actual, predicted)\n",
        "    mse = mean_squared_error(actual, predicted)\n",
        "    rmse = np.sqrt(mse)\n",
        "    mape = mean_absolute_percentage_error(actual, predicted)\n",
        "    mda = median_absolute_error(actual, predicted)\n",
        "    directional_accuracy = np.mean(np.sign(actual[1:] - actual[:-1]) == np.sign(predicted[1:] - actual[:-1])) * 100\n",
        "\n",
        "    print(f\"{model_name} Metrics:\")\n",
        "    print(\"MAE:\", mae)\n",
        "    print(\"MSE:\", mse)\n",
        "    print(\"RMSE:\", rmse)\n",
        "    print(\"MAPE:\", mape)\n",
        "    print(\"Median Absolute Error:\", mda)\n",
        "    print(\"Directional Accuracy:\", directional_accuracy, \"%\")\n",
        "    print()\n",
        "\n",
        "\n",
        "print_metrics(\"TBATS\", actual_stock_price[-7:], predicted_price_next_7_days_tbats)"
      ],
      "metadata": {
        "colab": {
          "base_uri": "https://localhost:8080/"
        },
        "id": "0m-UltCqEOxg",
        "outputId": "ac934494-9013-4f0a-ee41-545e75effa4e"
      },
      "execution_count": null,
      "outputs": [
        {
          "output_type": "stream",
          "name": "stdout",
          "text": [
            "TBATS Metrics:\n",
            "MAE: 0.8863534597276465\n",
            "MSE: 1.4979083316302055\n",
            "RMSE: 1.2238906534614133\n",
            "MAPE: 0.7088372538104953\n",
            "Median Absolute Error: 0.5044742180935645\n",
            "Directional Accuracy: 100.0 %\n",
            "\n"
          ]
        }
      ]
    }
  ]
}